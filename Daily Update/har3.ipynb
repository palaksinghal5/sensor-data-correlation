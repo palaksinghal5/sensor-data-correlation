{
  "nbformat": 4,
  "nbformat_minor": 0,
  "metadata": {
    "colab": {
      "name": "har.ipynb",
      "provenance": [],
      "collapsed_sections": [],
      "include_colab_link": true
    },
    "kernelspec": {
      "name": "python3",
      "display_name": "Python 3"
    }
  },
  "cells": [
    {
      "cell_type": "markdown",
      "metadata": {
        "id": "view-in-github",
        "colab_type": "text"
      },
      "source": [
        "<a href=\"https://colab.research.google.com/github/rjrockzz/sensor-data-correlation/blob/master/Daily%20Update/har3.ipynb\" target=\"_parent\"><img src=\"https://colab.research.google.com/assets/colab-badge.svg\" alt=\"Open In Colab\"/></a>"
      ]
    },
    {
      "cell_type": "code",
      "metadata": {
        "id": "KzMTbbuk8q5C",
        "colab_type": "code",
        "outputId": "6f5c362a-7e1c-4341-bf6d-57d552a50bd0",
        "colab": {
          "base_uri": "https://localhost:8080/",
          "height": 128
        }
      },
      "source": [
        "from google.colab import drive\n",
        "drive.mount('/content/drive')"
      ],
      "execution_count": 2,
      "outputs": [
        {
          "output_type": "stream",
          "text": [
            "Go to this URL in a browser: https://accounts.google.com/o/oauth2/auth?client_id=947318989803-6bn6qk8qdgf4n4g3pfee6491hc0brc4i.apps.googleusercontent.com&redirect_uri=urn%3aietf%3awg%3aoauth%3a2.0%3aoob&response_type=code&scope=email%20https%3a%2f%2fwww.googleapis.com%2fauth%2fdocs.test%20https%3a%2f%2fwww.googleapis.com%2fauth%2fdrive%20https%3a%2f%2fwww.googleapis.com%2fauth%2fdrive.photos.readonly%20https%3a%2f%2fwww.googleapis.com%2fauth%2fpeopleapi.readonly\n",
            "\n",
            "Enter your authorization code:\n",
            "··········\n",
            "Mounted at /content/drive\n"
          ],
          "name": "stdout"
        }
      ]
    },
    {
      "cell_type": "code",
      "metadata": {
        "id": "jcsetkGsq6lU",
        "colab_type": "code",
        "outputId": "a553ba33-1c4c-4c1b-ff62-75d72872eaff",
        "colab": {
          "base_uri": "https://localhost:8080/",
          "height": 1000
        }
      },
      "source": [
        "!pip install pandas==0.20.3\n",
        "!pip install numba\n",
        "!pip install umap-learn\n",
        "!pip install bokeh==0.12.15\n",
        "!pip install holoviews==1.10.4 \n",
        "!pip install colorcet\n",
        "!pip install datashader"
      ],
      "execution_count": 3,
      "outputs": [
        {
          "output_type": "stream",
          "text": [
            "Collecting pandas==0.20.3\n",
            "\u001b[?25l  Downloading https://files.pythonhosted.org/packages/fe/6f/5733658857dffb998afa2120027171c263384ada0487a969e5ecd5bf9ac9/pandas-0.20.3-cp36-cp36m-manylinux1_x86_64.whl (24.5MB)\n",
            "\u001b[K     |████████████████████████████████| 24.5MB 165kB/s \n",
            "\u001b[?25hRequirement already satisfied: pytz>=2011k in /usr/local/lib/python3.6/dist-packages (from pandas==0.20.3) (2018.9)\n",
            "Requirement already satisfied: numpy>=1.7.0 in /usr/local/lib/python3.6/dist-packages (from pandas==0.20.3) (1.18.4)\n",
            "Requirement already satisfied: python-dateutil>=2 in /usr/local/lib/python3.6/dist-packages (from pandas==0.20.3) (2.8.1)\n",
            "Requirement already satisfied: six>=1.5 in /usr/local/lib/python3.6/dist-packages (from python-dateutil>=2->pandas==0.20.3) (1.12.0)\n",
            "\u001b[31mERROR: xarray 0.15.1 has requirement pandas>=0.25, but you'll have pandas 0.20.3 which is incompatible.\u001b[0m\n",
            "\u001b[31mERROR: seaborn 0.10.1 has requirement pandas>=0.22.0, but you'll have pandas 0.20.3 which is incompatible.\u001b[0m\n",
            "\u001b[31mERROR: plotnine 0.6.0 has requirement pandas>=0.25.0, but you'll have pandas 0.20.3 which is incompatible.\u001b[0m\n",
            "\u001b[31mERROR: pandas-datareader 0.8.1 has requirement pandas>=0.21, but you'll have pandas 0.20.3 which is incompatible.\u001b[0m\n",
            "\u001b[31mERROR: mizani 0.6.0 has requirement pandas>=0.25.0, but you'll have pandas 0.20.3 which is incompatible.\u001b[0m\n",
            "\u001b[31mERROR: google-colab 1.0.0 has requirement pandas~=1.0.0; python_version >= \"3.0\", but you'll have pandas 0.20.3 which is incompatible.\u001b[0m\n",
            "\u001b[31mERROR: featuretools 0.4.1 has requirement pandas>=0.23.0, but you'll have pandas 0.20.3 which is incompatible.\u001b[0m\n",
            "\u001b[31mERROR: fbprophet 0.6 has requirement pandas>=0.23.4, but you'll have pandas 0.20.3 which is incompatible.\u001b[0m\n",
            "Installing collected packages: pandas\n",
            "  Found existing installation: pandas 1.0.3\n",
            "    Uninstalling pandas-1.0.3:\n",
            "      Successfully uninstalled pandas-1.0.3\n",
            "Successfully installed pandas-0.20.3\n"
          ],
          "name": "stdout"
        },
        {
          "output_type": "display_data",
          "data": {
            "application/vnd.colab-display-data+json": {
              "pip_warning": {
                "packages": [
                  "pandas"
                ]
              }
            }
          },
          "metadata": {
            "tags": []
          }
        },
        {
          "output_type": "stream",
          "text": [
            "Requirement already satisfied: numba in /usr/local/lib/python3.6/dist-packages (0.48.0)\n",
            "Requirement already satisfied: setuptools in /usr/local/lib/python3.6/dist-packages (from numba) (46.1.3)\n",
            "Requirement already satisfied: numpy>=1.15 in /usr/local/lib/python3.6/dist-packages (from numba) (1.18.4)\n",
            "Requirement already satisfied: llvmlite<0.32.0,>=0.31.0dev0 in /usr/local/lib/python3.6/dist-packages (from numba) (0.31.0)\n",
            "Requirement already satisfied: umap-learn in /usr/local/lib/python3.6/dist-packages (0.4.2)\n",
            "Requirement already satisfied: scipy>=1.3.1 in /usr/local/lib/python3.6/dist-packages (from umap-learn) (1.4.1)\n",
            "Requirement already satisfied: tbb>=2019.0 in /usr/local/lib/python3.6/dist-packages (from umap-learn) (2020.0.133)\n",
            "Requirement already satisfied: numba!=0.47,>=0.46 in /usr/local/lib/python3.6/dist-packages (from umap-learn) (0.48.0)\n",
            "Requirement already satisfied: scikit-learn>=0.20 in /usr/local/lib/python3.6/dist-packages (from umap-learn) (0.22.2.post1)\n",
            "Requirement already satisfied: numpy>=1.17 in /usr/local/lib/python3.6/dist-packages (from umap-learn) (1.18.4)\n",
            "Requirement already satisfied: setuptools in /usr/local/lib/python3.6/dist-packages (from numba!=0.47,>=0.46->umap-learn) (46.1.3)\n",
            "Requirement already satisfied: llvmlite<0.32.0,>=0.31.0dev0 in /usr/local/lib/python3.6/dist-packages (from numba!=0.47,>=0.46->umap-learn) (0.31.0)\n",
            "Requirement already satisfied: joblib>=0.11 in /usr/local/lib/python3.6/dist-packages (from scikit-learn>=0.20->umap-learn) (0.14.1)\n",
            "Collecting bokeh==0.12.15\n",
            "\u001b[?25l  Downloading https://files.pythonhosted.org/packages/ad/67/82f17df7d1f4b9e81c9263c1a1dc3897c43cf5a9461872f9054517331f77/bokeh-0.12.15.tar.gz (13.6MB)\n",
            "\u001b[K     |████████████████████████████████| 13.6MB 333kB/s \n",
            "\u001b[?25hRequirement already satisfied: six>=1.5.2 in /usr/local/lib/python3.6/dist-packages (from bokeh==0.12.15) (1.12.0)\n",
            "Requirement already satisfied: PyYAML>=3.10 in /usr/local/lib/python3.6/dist-packages (from bokeh==0.12.15) (3.13)\n",
            "Requirement already satisfied: python-dateutil>=2.1 in /usr/local/lib/python3.6/dist-packages (from bokeh==0.12.15) (2.8.1)\n",
            "Requirement already satisfied: Jinja2>=2.7 in /usr/local/lib/python3.6/dist-packages (from bokeh==0.12.15) (2.11.2)\n",
            "Requirement already satisfied: numpy>=1.7.1 in /usr/local/lib/python3.6/dist-packages (from bokeh==0.12.15) (1.18.4)\n",
            "Requirement already satisfied: packaging>=16.8 in /usr/local/lib/python3.6/dist-packages (from bokeh==0.12.15) (20.3)\n",
            "Requirement already satisfied: tornado>=4.3 in /usr/local/lib/python3.6/dist-packages (from bokeh==0.12.15) (4.5.3)\n",
            "Requirement already satisfied: MarkupSafe>=0.23 in /usr/local/lib/python3.6/dist-packages (from Jinja2>=2.7->bokeh==0.12.15) (1.1.1)\n",
            "Requirement already satisfied: pyparsing>=2.0.2 in /usr/local/lib/python3.6/dist-packages (from packaging>=16.8->bokeh==0.12.15) (2.4.7)\n",
            "Building wheels for collected packages: bokeh\n",
            "  Building wheel for bokeh (setup.py) ... \u001b[?25l\u001b[?25hdone\n",
            "  Created wheel for bokeh: filename=bokeh-0.12.15-cp36-none-any.whl size=4939344 sha256=c1b0a1a11d8b4eebc58a2c8bf007c602719c44b716da45cc74010d8ce55dd636\n",
            "  Stored in directory: /root/.cache/pip/wheels/0a/56/87/e8aaa58b05288bb4004cb11db4d502134552c996c0d84c0704\n",
            "Successfully built bokeh\n",
            "Installing collected packages: bokeh\n",
            "  Found existing installation: bokeh 1.4.0\n",
            "    Uninstalling bokeh-1.4.0:\n",
            "      Successfully uninstalled bokeh-1.4.0\n",
            "Successfully installed bokeh-0.12.15\n",
            "Collecting holoviews==1.10.4\n",
            "\u001b[?25l  Downloading https://files.pythonhosted.org/packages/61/ed/d4ec59dff73dc1fd89f4c02e8524c0f2b676cf873c08ceeb0b7f18ff1f4c/holoviews-1.10.4.tar.gz (7.3MB)\n",
            "\u001b[K     |████████████████████████████████| 7.4MB 2.7MB/s \n",
            "\u001b[?25hCollecting param<2.0,>=1.6.1\n",
            "\u001b[?25l  Downloading https://files.pythonhosted.org/packages/f8/47/d5e2b64b3edc260f3ec3001ab5a46291b75911f7f3e7aeeacd8d7823e13b/param-1.9.3-py2.py3-none-any.whl (70kB)\n",
            "\u001b[K     |████████████████████████████████| 71kB 8.9MB/s \n",
            "\u001b[?25hRequirement already satisfied: numpy>=1.0 in /usr/local/lib/python3.6/dist-packages (from holoviews==1.10.4) (1.18.4)\n",
            "Building wheels for collected packages: holoviews\n",
            "  Building wheel for holoviews (setup.py) ... \u001b[?25l\u001b[?25hdone\n",
            "  Created wheel for holoviews: filename=holoviews-1.10.4-cp36-none-any.whl size=3604619 sha256=08c683f7d21a4f50ddf5f0b85a36fb5078285f0dca2f1c4aa78b5669f3ed4d98\n",
            "  Stored in directory: /root/.cache/pip/wheels/a4/b0/e3/1cce540190c9fb0d4914d2dc48b01b86df494638716468c2b8\n",
            "Successfully built holoviews\n",
            "Installing collected packages: param, holoviews\n",
            "Successfully installed holoviews-1.10.4 param-1.9.3\n",
            "Collecting colorcet\n",
            "\u001b[?25l  Downloading https://files.pythonhosted.org/packages/b5/a4/8a5a364492af01c8b689987ce792d0d00835bbb1203a5cd5e49798a41fbd/colorcet-2.0.2-py2.py3-none-any.whl (1.6MB)\n",
            "\u001b[K     |████████████████████████████████| 1.6MB 2.8MB/s \n",
            "\u001b[?25hCollecting pyct>=0.4.4\n",
            "  Downloading https://files.pythonhosted.org/packages/eb/76/cdf8ba7edc7be2a26d418ff8d1ff695a7ac024761bda1ad6f8e269a90434/pyct-0.4.6-py2.py3-none-any.whl\n",
            "Requirement already satisfied: param>=1.7.0 in /usr/local/lib/python3.6/dist-packages (from colorcet) (1.9.3)\n",
            "Installing collected packages: pyct, colorcet\n",
            "Successfully installed colorcet-2.0.2 pyct-0.4.6\n",
            "Collecting datashader\n",
            "\u001b[?25l  Downloading https://files.pythonhosted.org/packages/51/a1/1fae5eae79c211725e7e00bb91905e826dbe575e2d746c66a4b4fe306a3b/datashader-0.10.0-py2.py3-none-any.whl (15.5MB)\n",
            "\u001b[K     |████████████████████████████████| 15.5MB 1.3MB/s \n",
            "\u001b[?25hRequirement already satisfied: param>=1.6.0 in /usr/local/lib/python3.6/dist-packages (from datashader) (1.9.3)\n",
            "Requirement already satisfied: colorcet>=0.9.0 in /usr/local/lib/python3.6/dist-packages (from datashader) (2.0.2)\n",
            "Requirement already satisfied: pillow>=3.1.1 in /usr/local/lib/python3.6/dist-packages (from datashader) (7.0.0)\n",
            "Requirement already satisfied: scikit-image in /usr/local/lib/python3.6/dist-packages (from datashader) (0.16.2)\n",
            "Requirement already satisfied: toolz>=0.7.4 in /usr/local/lib/python3.6/dist-packages (from datashader) (0.10.0)\n",
            "Requirement already satisfied: pandas>=0.20.3 in /usr/local/lib/python3.6/dist-packages (from datashader) (0.20.3)\n",
            "Requirement already satisfied: bokeh in /usr/local/lib/python3.6/dist-packages (from datashader) (0.12.15)\n",
            "Requirement already satisfied: numpy>=1.7 in /usr/local/lib/python3.6/dist-packages (from datashader) (1.18.4)\n",
            "Requirement already satisfied: dask[complete]>=0.18.0 in /usr/local/lib/python3.6/dist-packages (from datashader) (2.12.0)\n",
            "Requirement already satisfied: scipy in /usr/local/lib/python3.6/dist-packages (from datashader) (1.4.1)\n",
            "Requirement already satisfied: numba>=0.37.0 in /usr/local/lib/python3.6/dist-packages (from datashader) (0.48.0)\n",
            "Requirement already satisfied: xarray>=0.9.6 in /usr/local/lib/python3.6/dist-packages (from datashader) (0.15.1)\n",
            "Collecting datashape>=0.5.1\n",
            "\u001b[?25l  Downloading https://files.pythonhosted.org/packages/a6/5b/95b2ed56b61e649b69c9a5b1ecb32ff0a5cd68b9f69f5aa7774540e6b444/datashape-0.5.2.tar.gz (76kB)\n",
            "\u001b[K     |████████████████████████████████| 81kB 9.8MB/s \n",
            "\u001b[?25hRequirement already satisfied: pyct[cmd] in /usr/local/lib/python3.6/dist-packages (from datashader) (0.4.6)\n",
            "Requirement already satisfied: PyWavelets>=0.4.0 in /usr/local/lib/python3.6/dist-packages (from scikit-image->datashader) (1.1.1)\n",
            "Requirement already satisfied: matplotlib!=3.0.0,>=2.0.0 in /usr/local/lib/python3.6/dist-packages (from scikit-image->datashader) (3.2.1)\n",
            "Requirement already satisfied: imageio>=2.3.0 in /usr/local/lib/python3.6/dist-packages (from scikit-image->datashader) (2.4.1)\n",
            "Requirement already satisfied: networkx>=2.0 in /usr/local/lib/python3.6/dist-packages (from scikit-image->datashader) (2.4)\n",
            "Requirement already satisfied: pytz>=2011k in /usr/local/lib/python3.6/dist-packages (from pandas>=0.20.3->datashader) (2018.9)\n",
            "Requirement already satisfied: python-dateutil>=2 in /usr/local/lib/python3.6/dist-packages (from pandas>=0.20.3->datashader) (2.8.1)\n",
            "Requirement already satisfied: Jinja2>=2.7 in /usr/local/lib/python3.6/dist-packages (from bokeh->datashader) (2.11.2)\n",
            "Requirement already satisfied: PyYAML>=3.10 in /usr/local/lib/python3.6/dist-packages (from bokeh->datashader) (3.13)\n",
            "Requirement already satisfied: six>=1.5.2 in /usr/local/lib/python3.6/dist-packages (from bokeh->datashader) (1.12.0)\n",
            "Requirement already satisfied: packaging>=16.8 in /usr/local/lib/python3.6/dist-packages (from bokeh->datashader) (20.3)\n",
            "Requirement already satisfied: tornado>=4.3 in /usr/local/lib/python3.6/dist-packages (from bokeh->datashader) (4.5.3)\n",
            "Requirement already satisfied: fsspec>=0.6.0; extra == \"complete\" in /usr/local/lib/python3.6/dist-packages (from dask[complete]>=0.18.0->datashader) (0.7.3)\n",
            "Requirement already satisfied: cloudpickle>=0.2.1; extra == \"complete\" in /usr/local/lib/python3.6/dist-packages (from dask[complete]>=0.18.0->datashader) (1.3.0)\n",
            "Collecting distributed>=2.0; extra == \"complete\"\n",
            "\u001b[?25l  Downloading https://files.pythonhosted.org/packages/c0/7f/58454dac9c2603f926b9a5abd260a7c7818ece31cee4c3e46dad6aad8bb3/distributed-2.16.0-py3-none-any.whl (629kB)\n",
            "\u001b[K     |████████████████████████████████| 634kB 28.3MB/s \n",
            "\u001b[?25hCollecting partd>=0.3.10; extra == \"complete\"\n",
            "  Downloading https://files.pythonhosted.org/packages/44/e1/68dbe731c9c067655bff1eca5b7d40c20ca4b23fd5ec9f3d17e201a6f36b/partd-1.1.0-py3-none-any.whl\n",
            "Requirement already satisfied: setuptools in /usr/local/lib/python3.6/dist-packages (from numba>=0.37.0->datashader) (46.1.3)\n",
            "Requirement already satisfied: llvmlite<0.32.0,>=0.31.0dev0 in /usr/local/lib/python3.6/dist-packages (from numba>=0.37.0->datashader) (0.31.0)\n",
            "Collecting multipledispatch>=0.4.7\n",
            "  Downloading https://files.pythonhosted.org/packages/89/79/429ecef45fd5e4504f7474d4c3c3c4668c267be3370e4c2fd33e61506833/multipledispatch-0.6.0-py3-none-any.whl\n",
            "Requirement already satisfied: requests; extra == \"cmd\" in /usr/local/lib/python3.6/dist-packages (from pyct[cmd]->datashader) (2.23.0)\n",
            "Requirement already satisfied: kiwisolver>=1.0.1 in /usr/local/lib/python3.6/dist-packages (from matplotlib!=3.0.0,>=2.0.0->scikit-image->datashader) (1.2.0)\n",
            "Requirement already satisfied: pyparsing!=2.0.4,!=2.1.2,!=2.1.6,>=2.0.1 in /usr/local/lib/python3.6/dist-packages (from matplotlib!=3.0.0,>=2.0.0->scikit-image->datashader) (2.4.7)\n",
            "Requirement already satisfied: cycler>=0.10 in /usr/local/lib/python3.6/dist-packages (from matplotlib!=3.0.0,>=2.0.0->scikit-image->datashader) (0.10.0)\n",
            "Requirement already satisfied: decorator>=4.3.0 in /usr/local/lib/python3.6/dist-packages (from networkx>=2.0->scikit-image->datashader) (4.4.2)\n",
            "Requirement already satisfied: MarkupSafe>=0.23 in /usr/local/lib/python3.6/dist-packages (from Jinja2>=2.7->bokeh->datashader) (1.1.1)\n",
            "Requirement already satisfied: click>=6.6 in /usr/local/lib/python3.6/dist-packages (from distributed>=2.0; extra == \"complete\"->dask[complete]>=0.18.0->datashader) (7.1.2)\n",
            "Requirement already satisfied: psutil>=5.0 in /usr/local/lib/python3.6/dist-packages (from distributed>=2.0; extra == \"complete\"->dask[complete]>=0.18.0->datashader) (5.4.8)\n",
            "Requirement already satisfied: msgpack>=0.6.0 in /usr/local/lib/python3.6/dist-packages (from distributed>=2.0; extra == \"complete\"->dask[complete]>=0.18.0->datashader) (1.0.0)\n",
            "Requirement already satisfied: sortedcontainers!=2.0.0,!=2.0.1 in /usr/local/lib/python3.6/dist-packages (from distributed>=2.0; extra == \"complete\"->dask[complete]>=0.18.0->datashader) (2.1.0)\n",
            "Requirement already satisfied: tblib>=1.6.0 in /usr/local/lib/python3.6/dist-packages (from distributed>=2.0; extra == \"complete\"->dask[complete]>=0.18.0->datashader) (1.6.0)\n",
            "Requirement already satisfied: zict>=0.1.3 in /usr/local/lib/python3.6/dist-packages (from distributed>=2.0; extra == \"complete\"->dask[complete]>=0.18.0->datashader) (2.0.0)\n",
            "Collecting contextvars; python_version < \"3.7\"\n",
            "  Downloading https://files.pythonhosted.org/packages/83/96/55b82d9f13763be9d672622e1b8106c85acb83edd7cc2fa5bc67cd9877e9/contextvars-2.4.tar.gz\n",
            "Collecting locket\n",
            "  Downloading https://files.pythonhosted.org/packages/d0/22/3c0f97614e0be8386542facb3a7dcfc2584f7b83608c02333bced641281c/locket-0.2.0.tar.gz\n",
            "Requirement already satisfied: idna<3,>=2.5 in /usr/local/lib/python3.6/dist-packages (from requests; extra == \"cmd\"->pyct[cmd]->datashader) (2.9)\n",
            "Requirement already satisfied: chardet<4,>=3.0.2 in /usr/local/lib/python3.6/dist-packages (from requests; extra == \"cmd\"->pyct[cmd]->datashader) (3.0.4)\n",
            "Requirement already satisfied: certifi>=2017.4.17 in /usr/local/lib/python3.6/dist-packages (from requests; extra == \"cmd\"->pyct[cmd]->datashader) (2020.4.5.1)\n",
            "Requirement already satisfied: urllib3!=1.25.0,!=1.25.1,<1.26,>=1.21.1 in /usr/local/lib/python3.6/dist-packages (from requests; extra == \"cmd\"->pyct[cmd]->datashader) (1.24.3)\n",
            "Requirement already satisfied: heapdict in /usr/local/lib/python3.6/dist-packages (from zict>=0.1.3->distributed>=2.0; extra == \"complete\"->dask[complete]>=0.18.0->datashader) (1.0.1)\n",
            "Collecting immutables>=0.9\n",
            "\u001b[?25l  Downloading https://files.pythonhosted.org/packages/8d/86/dc81938d4198d0aed4db4301e532ccab91b49ea4f73b2ebc13aacb3f7f07/immutables-0.12-cp36-cp36m-manylinux1_x86_64.whl (97kB)\n",
            "\u001b[K     |████████████████████████████████| 102kB 11.8MB/s \n",
            "\u001b[?25hBuilding wheels for collected packages: datashape, contextvars, locket\n",
            "  Building wheel for datashape (setup.py) ... \u001b[?25l\u001b[?25hdone\n",
            "  Created wheel for datashape: filename=datashape-0.5.2-cp36-none-any.whl size=59429 sha256=fd41ea8b08f73bc4ea9f2d56558a7e6ed33874d0121605d90db1bb38cf7797b1\n",
            "  Stored in directory: /root/.cache/pip/wheels/8d/06/05/c1cba3d57bdcfd3960e3f60a9fdc97e4baef2ef09af0ad1ef8\n",
            "  Building wheel for contextvars (setup.py) ... \u001b[?25l\u001b[?25hdone\n",
            "  Created wheel for contextvars: filename=contextvars-2.4-cp36-none-any.whl size=7666 sha256=dd0d87ca760dc147faa7179d48c8c055d493264f79eb1e03e22a3ede4869e5bd\n",
            "  Stored in directory: /root/.cache/pip/wheels/a5/7d/68/1ebae2668bda2228686e3c1cf16f2c2384cea6e9334ad5f6de\n",
            "  Building wheel for locket (setup.py) ... \u001b[?25l\u001b[?25hdone\n",
            "  Created wheel for locket: filename=locket-0.2.0-cp36-none-any.whl size=4040 sha256=f581a3ca103aaabf3e9b2308c8d076f7afca68915ff229b884330d53ff727e31\n",
            "  Stored in directory: /root/.cache/pip/wheels/26/1e/e8/4fa236ec931b1a0cdd61578e20d4934d7bf188858723b84698\n",
            "Successfully built datashape contextvars locket\n",
            "\u001b[31mERROR: featuretools 0.4.1 has requirement pandas>=0.23.0, but you'll have pandas 0.20.3 which is incompatible.\u001b[0m\n",
            "\u001b[31mERROR: distributed 2.16.0 has requirement tornado>=5; python_version < \"3.8\", but you'll have tornado 4.5.3 which is incompatible.\u001b[0m\n",
            "Installing collected packages: multipledispatch, datashape, datashader, immutables, contextvars, distributed, locket, partd\n",
            "  Found existing installation: distributed 1.25.3\n",
            "    Uninstalling distributed-1.25.3:\n",
            "      Successfully uninstalled distributed-1.25.3\n",
            "Successfully installed contextvars-2.4 datashader-0.10.0 datashape-0.5.2 distributed-2.16.0 immutables-0.12 locket-0.2.0 multipledispatch-0.6.0 partd-1.1.0\n"
          ],
          "name": "stdout"
        }
      ]
    },
    {
      "cell_type": "code",
      "metadata": {
        "id": "XU4A9oD1neOc",
        "colab_type": "code",
        "colab": {}
      },
      "source": [
        "import pandas as pd\n",
        "import numpy as np \n",
        "import matplotlib.pyplot as plt\n",
        "import matplotlib\n",
        "import tensorflow as tf\n",
        "from sklearn import metrics\n",
        "import os"
      ],
      "execution_count": 0,
      "outputs": []
    },
    {
      "cell_type": "code",
      "metadata": {
        "id": "yC99Ig8q64ZK",
        "colab_type": "code",
        "colab": {
          "base_uri": "https://localhost:8080/",
          "height": 35
        },
        "outputId": "d5875129-9eed-4335-ec66-db861bb2cfe7"
      },
      "source": [
        "pd.__version__"
      ],
      "execution_count": 2,
      "outputs": [
        {
          "output_type": "execute_result",
          "data": {
            "text/plain": [
              "'0.20.3'"
            ]
          },
          "metadata": {
            "tags": []
          },
          "execution_count": 2
        }
      ]
    },
    {
      "cell_type": "code",
      "metadata": {
        "id": "knpqOY9uFMou",
        "colab_type": "code",
        "colab": {}
      },
      "source": [
        "# defining input signals and the labels for activities associated.\n",
        "input_metrics = [\"x_acceleration\",\n",
        "                 \"y_acceleration\",\n",
        "                 \"z_acceleration\",\n",
        "                 \"x_gyro\",\n",
        "                 \"y_gyro\",\n",
        "                 \"z_gyro\",\n",
        "                 \"total_x_acceleration\",\n",
        "                 \"total_y_acceleration\",\n",
        "                 \"total_z_acceleration\"]\n",
        "labels = [\"Walking\",\n",
        "          \"Upstairs\",\n",
        "          \"Downstairs\",\n",
        "          \"Sitting\",\n",
        "          \"Standing\",\n",
        "          \"Laying\"]\n",
        "\n",
        "dataset_path = \"/content/drive/My Drive/UCI HAR Dataset\""
      ],
      "execution_count": 0,
      "outputs": []
    },
    {
      "cell_type": "code",
      "metadata": {
        "id": "Z98T5KV8HD0k",
        "colab_type": "code",
        "colab": {}
      },
      "source": [
        "Training = dataset_path+\"/train\"  #70% training data\n",
        "Testing = dataset_path+\"/test\"    #30% testing data"
      ],
      "execution_count": 0,
      "outputs": []
    },
    {
      "cell_type": "code",
      "metadata": {
        "id": "Q365AySjHJqo",
        "colab_type": "code",
        "outputId": "e4056f90-7e3c-4d7e-9405-606e3d887e43",
        "colab": {
          "base_uri": "https://localhost:8080/",
          "height": 198
        }
      },
      "source": [
        "#Feature extraction\n",
        "features = list()\n",
        "with open(dataset_path + \"/features.txt\") as feature:\n",
        "    for x in feature:\n",
        "        features.append(x.split()[1])\n",
        "ft_df = pd.DataFrame(features)\n",
        "ft_df.head()"
      ],
      "execution_count": 5,
      "outputs": [
        {
          "output_type": "execute_result",
          "data": {
            "text/html": [
              "<div>\n",
              "<style>\n",
              "    .dataframe thead tr:only-child th {\n",
              "        text-align: right;\n",
              "    }\n",
              "\n",
              "    .dataframe thead th {\n",
              "        text-align: left;\n",
              "    }\n",
              "\n",
              "    .dataframe tbody tr th {\n",
              "        vertical-align: top;\n",
              "    }\n",
              "</style>\n",
              "<table border=\"1\" class=\"dataframe\">\n",
              "  <thead>\n",
              "    <tr style=\"text-align: right;\">\n",
              "      <th></th>\n",
              "      <th>0</th>\n",
              "    </tr>\n",
              "  </thead>\n",
              "  <tbody>\n",
              "    <tr>\n",
              "      <th>0</th>\n",
              "      <td>tBodyAcc-mean()-X</td>\n",
              "    </tr>\n",
              "    <tr>\n",
              "      <th>1</th>\n",
              "      <td>tBodyAcc-mean()-Y</td>\n",
              "    </tr>\n",
              "    <tr>\n",
              "      <th>2</th>\n",
              "      <td>tBodyAcc-mean()-Z</td>\n",
              "    </tr>\n",
              "    <tr>\n",
              "      <th>3</th>\n",
              "      <td>tBodyAcc-std()-X</td>\n",
              "    </tr>\n",
              "    <tr>\n",
              "      <th>4</th>\n",
              "      <td>tBodyAcc-std()-Y</td>\n",
              "    </tr>\n",
              "  </tbody>\n",
              "</table>\n",
              "</div>"
            ],
            "text/plain": [
              "                   0\n",
              "0  tBodyAcc-mean()-X\n",
              "1  tBodyAcc-mean()-Y\n",
              "2  tBodyAcc-mean()-Z\n",
              "3   tBodyAcc-std()-X\n",
              "4   tBodyAcc-std()-Y"
            ]
          },
          "metadata": {
            "tags": []
          },
          "execution_count": 5
        }
      ]
    },
    {
      "cell_type": "code",
      "metadata": {
        "id": "B5F29T6pam1z",
        "colab_type": "code",
        "outputId": "9df8b47c-6230-4587-b8dc-e8188e5594a5",
        "colab": {
          "base_uri": "https://localhost:8080/",
          "height": 198
        }
      },
      "source": [
        "ft_df.tail()"
      ],
      "execution_count": 6,
      "outputs": [
        {
          "output_type": "execute_result",
          "data": {
            "text/html": [
              "<div>\n",
              "<style>\n",
              "    .dataframe thead tr:only-child th {\n",
              "        text-align: right;\n",
              "    }\n",
              "\n",
              "    .dataframe thead th {\n",
              "        text-align: left;\n",
              "    }\n",
              "\n",
              "    .dataframe tbody tr th {\n",
              "        vertical-align: top;\n",
              "    }\n",
              "</style>\n",
              "<table border=\"1\" class=\"dataframe\">\n",
              "  <thead>\n",
              "    <tr style=\"text-align: right;\">\n",
              "      <th></th>\n",
              "      <th>0</th>\n",
              "    </tr>\n",
              "  </thead>\n",
              "  <tbody>\n",
              "    <tr>\n",
              "      <th>556</th>\n",
              "      <td>angle(tBodyGyroMean,gravityMean)</td>\n",
              "    </tr>\n",
              "    <tr>\n",
              "      <th>557</th>\n",
              "      <td>angle(tBodyGyroJerkMean,gravityMean)</td>\n",
              "    </tr>\n",
              "    <tr>\n",
              "      <th>558</th>\n",
              "      <td>angle(X,gravityMean)</td>\n",
              "    </tr>\n",
              "    <tr>\n",
              "      <th>559</th>\n",
              "      <td>angle(Y,gravityMean)</td>\n",
              "    </tr>\n",
              "    <tr>\n",
              "      <th>560</th>\n",
              "      <td>angle(Z,gravityMean)</td>\n",
              "    </tr>\n",
              "  </tbody>\n",
              "</table>\n",
              "</div>"
            ],
            "text/plain": [
              "                                        0\n",
              "556      angle(tBodyGyroMean,gravityMean)\n",
              "557  angle(tBodyGyroJerkMean,gravityMean)\n",
              "558                  angle(X,gravityMean)\n",
              "559                  angle(Y,gravityMean)\n",
              "560                  angle(Z,gravityMean)"
            ]
          },
          "metadata": {
            "tags": []
          },
          "execution_count": 6
        }
      ]
    },
    {
      "cell_type": "code",
      "metadata": {
        "id": "6GeEZz0_IRH5",
        "colab_type": "code",
        "colab": {}
      },
      "source": [
        "#Reading Train Data\n",
        "train_df = pd.read_csv(dataset_path+\"/train/X_train.txt\",delim_whitespace=1,names = features)\n",
        "train_df[\"person_id\"] = pd.read_csv(Training+\"/subject_train.txt\",header = None, squeeze = True)#adding feature = person_id\n",
        "#squeeze = True will return data in pandas series format\n",
        "train_df[\"activity_id\"] = pd.read_csv(Training+\"/y_train.txt\", header = None, squeeze = True)#adding feature = activity_id\n",
        "activity_id = pd.read_csv(Training+\"/y_train.txt\", header = None, squeeze = True)\n",
        "#mapping activity to activity name\n",
        "label_name = activity_id.map({1: \"WALKING\",\n",
        "                           2:\"WALKING_UPSTAIRS\",\n",
        "                           3:\"WALKING_DOWNSTAIRS\",\n",
        "                           4:\"SITTING\",\n",
        "                           5:\"STANDING\",\n",
        "                           6:\"LYING\"})\n",
        "train_df[\"activity\"] = label_name"
      ],
      "execution_count": 0,
      "outputs": []
    },
    {
      "cell_type": "code",
      "metadata": {
        "id": "WIGXPKFOaHOL",
        "colab_type": "code",
        "outputId": "a91a762b-ea6b-4485-d605-f5a1d27640a3",
        "colab": {
          "base_uri": "https://localhost:8080/",
          "height": 265
        }
      },
      "source": [
        "train_df.head()\n"
      ],
      "execution_count": 8,
      "outputs": [
        {
          "output_type": "execute_result",
          "data": {
            "text/html": [
              "<div>\n",
              "<style>\n",
              "    .dataframe thead tr:only-child th {\n",
              "        text-align: right;\n",
              "    }\n",
              "\n",
              "    .dataframe thead th {\n",
              "        text-align: left;\n",
              "    }\n",
              "\n",
              "    .dataframe tbody tr th {\n",
              "        vertical-align: top;\n",
              "    }\n",
              "</style>\n",
              "<table border=\"1\" class=\"dataframe\">\n",
              "  <thead>\n",
              "    <tr style=\"text-align: right;\">\n",
              "      <th></th>\n",
              "      <th>tBodyAcc-mean()-X</th>\n",
              "      <th>tBodyAcc-mean()-Y</th>\n",
              "      <th>tBodyAcc-mean()-Z</th>\n",
              "      <th>tBodyAcc-std()-X</th>\n",
              "      <th>tBodyAcc-std()-Y</th>\n",
              "      <th>tBodyAcc-std()-Z</th>\n",
              "      <th>tBodyAcc-mad()-X</th>\n",
              "      <th>tBodyAcc-mad()-Y</th>\n",
              "      <th>tBodyAcc-mad()-Z</th>\n",
              "      <th>tBodyAcc-max()-X</th>\n",
              "      <th>...</th>\n",
              "      <th>angle(tBodyAccMean,gravity)</th>\n",
              "      <th>angle(tBodyAccJerkMean),gravityMean)</th>\n",
              "      <th>angle(tBodyGyroMean,gravityMean)</th>\n",
              "      <th>angle(tBodyGyroJerkMean,gravityMean)</th>\n",
              "      <th>angle(X,gravityMean)</th>\n",
              "      <th>angle(Y,gravityMean)</th>\n",
              "      <th>angle(Z,gravityMean)</th>\n",
              "      <th>person_id</th>\n",
              "      <th>activity_id</th>\n",
              "      <th>activity</th>\n",
              "    </tr>\n",
              "  </thead>\n",
              "  <tbody>\n",
              "    <tr>\n",
              "      <th>0</th>\n",
              "      <td>0.288585</td>\n",
              "      <td>-0.020294</td>\n",
              "      <td>-0.132905</td>\n",
              "      <td>-0.995279</td>\n",
              "      <td>-0.983111</td>\n",
              "      <td>-0.913526</td>\n",
              "      <td>-0.995112</td>\n",
              "      <td>-0.983185</td>\n",
              "      <td>-0.923527</td>\n",
              "      <td>-0.934724</td>\n",
              "      <td>...</td>\n",
              "      <td>-0.112754</td>\n",
              "      <td>0.030400</td>\n",
              "      <td>-0.464761</td>\n",
              "      <td>-0.018446</td>\n",
              "      <td>-0.841247</td>\n",
              "      <td>0.179941</td>\n",
              "      <td>-0.058627</td>\n",
              "      <td>1</td>\n",
              "      <td>5</td>\n",
              "      <td>STANDING</td>\n",
              "    </tr>\n",
              "    <tr>\n",
              "      <th>1</th>\n",
              "      <td>0.278419</td>\n",
              "      <td>-0.016411</td>\n",
              "      <td>-0.123520</td>\n",
              "      <td>-0.998245</td>\n",
              "      <td>-0.975300</td>\n",
              "      <td>-0.960322</td>\n",
              "      <td>-0.998807</td>\n",
              "      <td>-0.974914</td>\n",
              "      <td>-0.957686</td>\n",
              "      <td>-0.943068</td>\n",
              "      <td>...</td>\n",
              "      <td>0.053477</td>\n",
              "      <td>-0.007435</td>\n",
              "      <td>-0.732626</td>\n",
              "      <td>0.703511</td>\n",
              "      <td>-0.844788</td>\n",
              "      <td>0.180289</td>\n",
              "      <td>-0.054317</td>\n",
              "      <td>1</td>\n",
              "      <td>5</td>\n",
              "      <td>STANDING</td>\n",
              "    </tr>\n",
              "    <tr>\n",
              "      <th>2</th>\n",
              "      <td>0.279653</td>\n",
              "      <td>-0.019467</td>\n",
              "      <td>-0.113462</td>\n",
              "      <td>-0.995380</td>\n",
              "      <td>-0.967187</td>\n",
              "      <td>-0.978944</td>\n",
              "      <td>-0.996520</td>\n",
              "      <td>-0.963668</td>\n",
              "      <td>-0.977469</td>\n",
              "      <td>-0.938692</td>\n",
              "      <td>...</td>\n",
              "      <td>-0.118559</td>\n",
              "      <td>0.177899</td>\n",
              "      <td>0.100699</td>\n",
              "      <td>0.808529</td>\n",
              "      <td>-0.848933</td>\n",
              "      <td>0.180637</td>\n",
              "      <td>-0.049118</td>\n",
              "      <td>1</td>\n",
              "      <td>5</td>\n",
              "      <td>STANDING</td>\n",
              "    </tr>\n",
              "    <tr>\n",
              "      <th>3</th>\n",
              "      <td>0.279174</td>\n",
              "      <td>-0.026201</td>\n",
              "      <td>-0.123283</td>\n",
              "      <td>-0.996091</td>\n",
              "      <td>-0.983403</td>\n",
              "      <td>-0.990675</td>\n",
              "      <td>-0.997099</td>\n",
              "      <td>-0.982750</td>\n",
              "      <td>-0.989302</td>\n",
              "      <td>-0.938692</td>\n",
              "      <td>...</td>\n",
              "      <td>-0.036788</td>\n",
              "      <td>-0.012892</td>\n",
              "      <td>0.640011</td>\n",
              "      <td>-0.485366</td>\n",
              "      <td>-0.848649</td>\n",
              "      <td>0.181935</td>\n",
              "      <td>-0.047663</td>\n",
              "      <td>1</td>\n",
              "      <td>5</td>\n",
              "      <td>STANDING</td>\n",
              "    </tr>\n",
              "    <tr>\n",
              "      <th>4</th>\n",
              "      <td>0.276629</td>\n",
              "      <td>-0.016570</td>\n",
              "      <td>-0.115362</td>\n",
              "      <td>-0.998139</td>\n",
              "      <td>-0.980817</td>\n",
              "      <td>-0.990482</td>\n",
              "      <td>-0.998321</td>\n",
              "      <td>-0.979672</td>\n",
              "      <td>-0.990441</td>\n",
              "      <td>-0.942469</td>\n",
              "      <td>...</td>\n",
              "      <td>0.123320</td>\n",
              "      <td>0.122542</td>\n",
              "      <td>0.693578</td>\n",
              "      <td>-0.615971</td>\n",
              "      <td>-0.847865</td>\n",
              "      <td>0.185151</td>\n",
              "      <td>-0.043892</td>\n",
              "      <td>1</td>\n",
              "      <td>5</td>\n",
              "      <td>STANDING</td>\n",
              "    </tr>\n",
              "  </tbody>\n",
              "</table>\n",
              "<p>5 rows × 564 columns</p>\n",
              "</div>"
            ],
            "text/plain": [
              "   tBodyAcc-mean()-X  tBodyAcc-mean()-Y  tBodyAcc-mean()-Z  tBodyAcc-std()-X  \\\n",
              "0           0.288585          -0.020294          -0.132905         -0.995279   \n",
              "1           0.278419          -0.016411          -0.123520         -0.998245   \n",
              "2           0.279653          -0.019467          -0.113462         -0.995380   \n",
              "3           0.279174          -0.026201          -0.123283         -0.996091   \n",
              "4           0.276629          -0.016570          -0.115362         -0.998139   \n",
              "\n",
              "   tBodyAcc-std()-Y  tBodyAcc-std()-Z  tBodyAcc-mad()-X  tBodyAcc-mad()-Y  \\\n",
              "0         -0.983111         -0.913526         -0.995112         -0.983185   \n",
              "1         -0.975300         -0.960322         -0.998807         -0.974914   \n",
              "2         -0.967187         -0.978944         -0.996520         -0.963668   \n",
              "3         -0.983403         -0.990675         -0.997099         -0.982750   \n",
              "4         -0.980817         -0.990482         -0.998321         -0.979672   \n",
              "\n",
              "   tBodyAcc-mad()-Z  tBodyAcc-max()-X    ...     angle(tBodyAccMean,gravity)  \\\n",
              "0         -0.923527         -0.934724    ...                       -0.112754   \n",
              "1         -0.957686         -0.943068    ...                        0.053477   \n",
              "2         -0.977469         -0.938692    ...                       -0.118559   \n",
              "3         -0.989302         -0.938692    ...                       -0.036788   \n",
              "4         -0.990441         -0.942469    ...                        0.123320   \n",
              "\n",
              "   angle(tBodyAccJerkMean),gravityMean)  angle(tBodyGyroMean,gravityMean)  \\\n",
              "0                              0.030400                         -0.464761   \n",
              "1                             -0.007435                         -0.732626   \n",
              "2                              0.177899                          0.100699   \n",
              "3                             -0.012892                          0.640011   \n",
              "4                              0.122542                          0.693578   \n",
              "\n",
              "   angle(tBodyGyroJerkMean,gravityMean)  angle(X,gravityMean)  \\\n",
              "0                             -0.018446             -0.841247   \n",
              "1                              0.703511             -0.844788   \n",
              "2                              0.808529             -0.848933   \n",
              "3                             -0.485366             -0.848649   \n",
              "4                             -0.615971             -0.847865   \n",
              "\n",
              "   angle(Y,gravityMean)  angle(Z,gravityMean)  person_id  activity_id  \\\n",
              "0              0.179941             -0.058627          1            5   \n",
              "1              0.180289             -0.054317          1            5   \n",
              "2              0.180637             -0.049118          1            5   \n",
              "3              0.181935             -0.047663          1            5   \n",
              "4              0.185151             -0.043892          1            5   \n",
              "\n",
              "   activity  \n",
              "0  STANDING  \n",
              "1  STANDING  \n",
              "2  STANDING  \n",
              "3  STANDING  \n",
              "4  STANDING  \n",
              "\n",
              "[5 rows x 564 columns]"
            ]
          },
          "metadata": {
            "tags": []
          },
          "execution_count": 8
        }
      ]
    },
    {
      "cell_type": "code",
      "metadata": {
        "id": "IVDOmx8HaNjg",
        "colab_type": "code",
        "outputId": "1498acd7-7e6e-41c1-a6f3-52b81b3c0dcc",
        "colab": {
          "base_uri": "https://localhost:8080/",
          "height": 35
        }
      },
      "source": [
        "train_df.shape"
      ],
      "execution_count": 9,
      "outputs": [
        {
          "output_type": "execute_result",
          "data": {
            "text/plain": [
              "(7352, 564)"
            ]
          },
          "metadata": {
            "tags": []
          },
          "execution_count": 9
        }
      ]
    },
    {
      "cell_type": "code",
      "metadata": {
        "id": "ivrYr4ArU43x",
        "colab_type": "code",
        "colab": {}
      },
      "source": [
        "#Reading Test Data\n",
        "test_df = pd.read_csv(dataset_path+\"/test/X_test.txt\",delim_whitespace=1,names = features)\n",
        "test_df[\"person_id\"] = pd.read_csv(Testing+\"/subject_test.txt\",header = None, squeeze = True)#adding feature = person_id \n",
        "test_df[\"activity_id\"] = pd.read_csv(Testing+\"/y_test.txt\", header = None, squeeze = True)#adding feature = activity_id\n",
        "activity_id = pd.read_csv(Testing+\"/y_test.txt\", header = None, squeeze = True)\n",
        "label_name = activity_id.map({1: \"WALKING\",\n",
        "                           2:\"WALKING_UPSTAIRS\",\n",
        "                           3:\"WALKING_DOWNSTAIRS\",\n",
        "                           4:\"SITTING\",\n",
        "                           5:\"STANDING\",\n",
        "                           6:\"LYING\"})\n",
        "test_df[\"activity\"] = label_name"
      ],
      "execution_count": 0,
      "outputs": []
    },
    {
      "cell_type": "code",
      "metadata": {
        "id": "z3A2FJ-cxWYh",
        "colab_type": "code",
        "outputId": "cb1ef064-b6af-48e1-b969-79c2458fed80",
        "colab": {
          "base_uri": "https://localhost:8080/",
          "height": 265
        }
      },
      "source": [
        "test_df.head()"
      ],
      "execution_count": 11,
      "outputs": [
        {
          "output_type": "execute_result",
          "data": {
            "text/html": [
              "<div>\n",
              "<style>\n",
              "    .dataframe thead tr:only-child th {\n",
              "        text-align: right;\n",
              "    }\n",
              "\n",
              "    .dataframe thead th {\n",
              "        text-align: left;\n",
              "    }\n",
              "\n",
              "    .dataframe tbody tr th {\n",
              "        vertical-align: top;\n",
              "    }\n",
              "</style>\n",
              "<table border=\"1\" class=\"dataframe\">\n",
              "  <thead>\n",
              "    <tr style=\"text-align: right;\">\n",
              "      <th></th>\n",
              "      <th>tBodyAcc-mean()-X</th>\n",
              "      <th>tBodyAcc-mean()-Y</th>\n",
              "      <th>tBodyAcc-mean()-Z</th>\n",
              "      <th>tBodyAcc-std()-X</th>\n",
              "      <th>tBodyAcc-std()-Y</th>\n",
              "      <th>tBodyAcc-std()-Z</th>\n",
              "      <th>tBodyAcc-mad()-X</th>\n",
              "      <th>tBodyAcc-mad()-Y</th>\n",
              "      <th>tBodyAcc-mad()-Z</th>\n",
              "      <th>tBodyAcc-max()-X</th>\n",
              "      <th>...</th>\n",
              "      <th>angle(tBodyAccMean,gravity)</th>\n",
              "      <th>angle(tBodyAccJerkMean),gravityMean)</th>\n",
              "      <th>angle(tBodyGyroMean,gravityMean)</th>\n",
              "      <th>angle(tBodyGyroJerkMean,gravityMean)</th>\n",
              "      <th>angle(X,gravityMean)</th>\n",
              "      <th>angle(Y,gravityMean)</th>\n",
              "      <th>angle(Z,gravityMean)</th>\n",
              "      <th>person_id</th>\n",
              "      <th>activity_id</th>\n",
              "      <th>activity</th>\n",
              "    </tr>\n",
              "  </thead>\n",
              "  <tbody>\n",
              "    <tr>\n",
              "      <th>0</th>\n",
              "      <td>0.257178</td>\n",
              "      <td>-0.023285</td>\n",
              "      <td>-0.014654</td>\n",
              "      <td>-0.938404</td>\n",
              "      <td>-0.920091</td>\n",
              "      <td>-0.667683</td>\n",
              "      <td>-0.952501</td>\n",
              "      <td>-0.925249</td>\n",
              "      <td>-0.674302</td>\n",
              "      <td>-0.894088</td>\n",
              "      <td>...</td>\n",
              "      <td>0.006462</td>\n",
              "      <td>0.162920</td>\n",
              "      <td>-0.825886</td>\n",
              "      <td>0.271151</td>\n",
              "      <td>-0.720009</td>\n",
              "      <td>0.276801</td>\n",
              "      <td>-0.057978</td>\n",
              "      <td>2</td>\n",
              "      <td>5</td>\n",
              "      <td>STANDING</td>\n",
              "    </tr>\n",
              "    <tr>\n",
              "      <th>1</th>\n",
              "      <td>0.286027</td>\n",
              "      <td>-0.013163</td>\n",
              "      <td>-0.119083</td>\n",
              "      <td>-0.975415</td>\n",
              "      <td>-0.967458</td>\n",
              "      <td>-0.944958</td>\n",
              "      <td>-0.986799</td>\n",
              "      <td>-0.968401</td>\n",
              "      <td>-0.945823</td>\n",
              "      <td>-0.894088</td>\n",
              "      <td>...</td>\n",
              "      <td>-0.083495</td>\n",
              "      <td>0.017500</td>\n",
              "      <td>-0.434375</td>\n",
              "      <td>0.920593</td>\n",
              "      <td>-0.698091</td>\n",
              "      <td>0.281343</td>\n",
              "      <td>-0.083898</td>\n",
              "      <td>2</td>\n",
              "      <td>5</td>\n",
              "      <td>STANDING</td>\n",
              "    </tr>\n",
              "    <tr>\n",
              "      <th>2</th>\n",
              "      <td>0.275485</td>\n",
              "      <td>-0.026050</td>\n",
              "      <td>-0.118152</td>\n",
              "      <td>-0.993819</td>\n",
              "      <td>-0.969926</td>\n",
              "      <td>-0.962748</td>\n",
              "      <td>-0.994403</td>\n",
              "      <td>-0.970735</td>\n",
              "      <td>-0.963483</td>\n",
              "      <td>-0.939260</td>\n",
              "      <td>...</td>\n",
              "      <td>-0.034956</td>\n",
              "      <td>0.202302</td>\n",
              "      <td>0.064103</td>\n",
              "      <td>0.145068</td>\n",
              "      <td>-0.702771</td>\n",
              "      <td>0.280083</td>\n",
              "      <td>-0.079346</td>\n",
              "      <td>2</td>\n",
              "      <td>5</td>\n",
              "      <td>STANDING</td>\n",
              "    </tr>\n",
              "    <tr>\n",
              "      <th>3</th>\n",
              "      <td>0.270298</td>\n",
              "      <td>-0.032614</td>\n",
              "      <td>-0.117520</td>\n",
              "      <td>-0.994743</td>\n",
              "      <td>-0.973268</td>\n",
              "      <td>-0.967091</td>\n",
              "      <td>-0.995274</td>\n",
              "      <td>-0.974471</td>\n",
              "      <td>-0.968897</td>\n",
              "      <td>-0.938610</td>\n",
              "      <td>...</td>\n",
              "      <td>-0.017067</td>\n",
              "      <td>0.154438</td>\n",
              "      <td>0.340134</td>\n",
              "      <td>0.296407</td>\n",
              "      <td>-0.698954</td>\n",
              "      <td>0.284114</td>\n",
              "      <td>-0.077108</td>\n",
              "      <td>2</td>\n",
              "      <td>5</td>\n",
              "      <td>STANDING</td>\n",
              "    </tr>\n",
              "    <tr>\n",
              "      <th>4</th>\n",
              "      <td>0.274833</td>\n",
              "      <td>-0.027848</td>\n",
              "      <td>-0.129527</td>\n",
              "      <td>-0.993852</td>\n",
              "      <td>-0.967445</td>\n",
              "      <td>-0.978295</td>\n",
              "      <td>-0.994111</td>\n",
              "      <td>-0.965953</td>\n",
              "      <td>-0.977346</td>\n",
              "      <td>-0.938610</td>\n",
              "      <td>...</td>\n",
              "      <td>-0.002223</td>\n",
              "      <td>-0.040046</td>\n",
              "      <td>0.736715</td>\n",
              "      <td>-0.118545</td>\n",
              "      <td>-0.692245</td>\n",
              "      <td>0.290722</td>\n",
              "      <td>-0.073857</td>\n",
              "      <td>2</td>\n",
              "      <td>5</td>\n",
              "      <td>STANDING</td>\n",
              "    </tr>\n",
              "  </tbody>\n",
              "</table>\n",
              "<p>5 rows × 564 columns</p>\n",
              "</div>"
            ],
            "text/plain": [
              "   tBodyAcc-mean()-X  tBodyAcc-mean()-Y  tBodyAcc-mean()-Z  tBodyAcc-std()-X  \\\n",
              "0           0.257178          -0.023285          -0.014654         -0.938404   \n",
              "1           0.286027          -0.013163          -0.119083         -0.975415   \n",
              "2           0.275485          -0.026050          -0.118152         -0.993819   \n",
              "3           0.270298          -0.032614          -0.117520         -0.994743   \n",
              "4           0.274833          -0.027848          -0.129527         -0.993852   \n",
              "\n",
              "   tBodyAcc-std()-Y  tBodyAcc-std()-Z  tBodyAcc-mad()-X  tBodyAcc-mad()-Y  \\\n",
              "0         -0.920091         -0.667683         -0.952501         -0.925249   \n",
              "1         -0.967458         -0.944958         -0.986799         -0.968401   \n",
              "2         -0.969926         -0.962748         -0.994403         -0.970735   \n",
              "3         -0.973268         -0.967091         -0.995274         -0.974471   \n",
              "4         -0.967445         -0.978295         -0.994111         -0.965953   \n",
              "\n",
              "   tBodyAcc-mad()-Z  tBodyAcc-max()-X    ...     angle(tBodyAccMean,gravity)  \\\n",
              "0         -0.674302         -0.894088    ...                        0.006462   \n",
              "1         -0.945823         -0.894088    ...                       -0.083495   \n",
              "2         -0.963483         -0.939260    ...                       -0.034956   \n",
              "3         -0.968897         -0.938610    ...                       -0.017067   \n",
              "4         -0.977346         -0.938610    ...                       -0.002223   \n",
              "\n",
              "   angle(tBodyAccJerkMean),gravityMean)  angle(tBodyGyroMean,gravityMean)  \\\n",
              "0                              0.162920                         -0.825886   \n",
              "1                              0.017500                         -0.434375   \n",
              "2                              0.202302                          0.064103   \n",
              "3                              0.154438                          0.340134   \n",
              "4                             -0.040046                          0.736715   \n",
              "\n",
              "   angle(tBodyGyroJerkMean,gravityMean)  angle(X,gravityMean)  \\\n",
              "0                              0.271151             -0.720009   \n",
              "1                              0.920593             -0.698091   \n",
              "2                              0.145068             -0.702771   \n",
              "3                              0.296407             -0.698954   \n",
              "4                             -0.118545             -0.692245   \n",
              "\n",
              "   angle(Y,gravityMean)  angle(Z,gravityMean)  person_id  activity_id  \\\n",
              "0              0.276801             -0.057978          2            5   \n",
              "1              0.281343             -0.083898          2            5   \n",
              "2              0.280083             -0.079346          2            5   \n",
              "3              0.284114             -0.077108          2            5   \n",
              "4              0.290722             -0.073857          2            5   \n",
              "\n",
              "   activity  \n",
              "0  STANDING  \n",
              "1  STANDING  \n",
              "2  STANDING  \n",
              "3  STANDING  \n",
              "4  STANDING  \n",
              "\n",
              "[5 rows x 564 columns]"
            ]
          },
          "metadata": {
            "tags": []
          },
          "execution_count": 11
        }
      ]
    },
    {
      "cell_type": "code",
      "metadata": {
        "id": "FZdq2UC6xaVg",
        "colab_type": "code",
        "outputId": "52920bc9-4b6d-4337-cd61-5e044ae52f6b",
        "colab": {
          "base_uri": "https://localhost:8080/",
          "height": 35
        }
      },
      "source": [
        "test_df.shape"
      ],
      "execution_count": 12,
      "outputs": [
        {
          "output_type": "execute_result",
          "data": {
            "text/plain": [
              "(2947, 564)"
            ]
          },
          "metadata": {
            "tags": []
          },
          "execution_count": 12
        }
      ]
    },
    {
      "cell_type": "code",
      "metadata": {
        "id": "NC5iZMWLHaJY",
        "colab_type": "code",
        "outputId": "0ff99cab-51a8-4344-d424-e8f1ca687518",
        "colab": {
          "base_uri": "https://localhost:8080/",
          "height": 627
        }
      },
      "source": [
        "#Checking for any imbalance in the data\n",
        "import seaborn as sns\n",
        "sns.set(style=\"white\", palette=\"Paired\", color_codes=True)\n",
        "sns.set_style(\"whitegrid\") \n",
        "fig = plt.figure(figsize=(15,10))\n",
        "sns.countplot(y=\"person_id\",hue=\"activity\",\n",
        "              data=train_df,\n",
        "              edgecolor=sns.color_palette(\"bright\", 6)).set_title(\"Activity Count\")\n",
        "plt.ylabel(\"Person ID\")\n",
        "plt.xlabel(\"Count\")\n",
        "plt.show()"
      ],
      "execution_count": 13,
      "outputs": [
        {
          "output_type": "display_data",
          "data": {
            "image/png": "[encoded data removed]",
            "text/plain": [
              "<Figure size 1080x720 with 1 Axes>"
            ]
          },
          "metadata": {
            "tags": []
          }
        }
      ]
    },
    {
      "cell_type": "code",
      "metadata": {
        "id": "ioqP74GX7jyh",
        "colab_type": "code",
        "outputId": "0ecbeebe-d672-4e71-86ad-225ff764c6ce",
        "colab": {
          "base_uri": "https://localhost:8080/",
          "height": 407
        }
      },
      "source": [
        "color = train_df[\"activity_id\"].map({1: 'g', 2: 'b', 3: 'y', 4: 'k', 5: 'r', 6: 'g'})\n",
        "train_df['activity'].value_counts().plot.bar(rot=90,stacked = True, color=color)"
      ],
      "execution_count": 14,
      "outputs": [
        {
          "output_type": "execute_result",
          "data": {
            "text/plain": [
              "<matplotlib.axes._subplots.AxesSubplot at 0x7faeb6012ef0>"
            ]
          },
          "metadata": {
            "tags": []
          },
          "execution_count": 14
        },
        {
          "output_type": "display_data",
          "data": {
            "image/png": "[encoded data removed]",
            "text/plain": [
              "<Figure size 432x288 with 1 Axes>"
            ]
          },
          "metadata": {
            "tags": []
          }
        }
      ]
    },
    {
      "cell_type": "code",
      "metadata": {
        "id": "5QZq3BY3PzG7",
        "colab_type": "code",
        "outputId": "e3793e06-c1e8-4ba5-ee3c-15739c5e3547",
        "colab": {
          "base_uri": "https://localhost:8080/",
          "height": 217
        }
      },
      "source": [
        "train_df.columns"
      ],
      "execution_count": 15,
      "outputs": [
        {
          "output_type": "execute_result",
          "data": {
            "text/plain": [
              "Index(['tBodyAcc-mean()-X', 'tBodyAcc-mean()-Y', 'tBodyAcc-mean()-Z',\n",
              "       'tBodyAcc-std()-X', 'tBodyAcc-std()-Y', 'tBodyAcc-std()-Z',\n",
              "       'tBodyAcc-mad()-X', 'tBodyAcc-mad()-Y', 'tBodyAcc-mad()-Z',\n",
              "       'tBodyAcc-max()-X',\n",
              "       ...\n",
              "       'angle(tBodyAccMean,gravity)', 'angle(tBodyAccJerkMean),gravityMean)',\n",
              "       'angle(tBodyGyroMean,gravityMean)',\n",
              "       'angle(tBodyGyroJerkMean,gravityMean)', 'angle(X,gravityMean)',\n",
              "       'angle(Y,gravityMean)', 'angle(Z,gravityMean)', 'person_id',\n",
              "       'activity_id', 'activity'],\n",
              "      dtype='object', length=564)"
            ]
          },
          "metadata": {
            "tags": []
          },
          "execution_count": 15
        }
      ]
    },
    {
      "cell_type": "code",
      "metadata": {
        "id": "-jZU5c_gRGG6",
        "colab_type": "code",
        "outputId": "7f292d69-4f2f-4790-b793-46940ca40449",
        "colab": {
          "base_uri": "https://localhost:8080/",
          "height": 181
        }
      },
      "source": [
        "#Feature name changed\n",
        "columns = train_df.columns\n",
        "for r in ((\"[()]\", ''), (\"-\", ''), (\",\",'')):\n",
        "    columns = columns.str.replace(*r)\n",
        "#earlier columns was of type panda Index. Now by writing columns.str it has been changed to pandas string.\n",
        "#pandas string has a method called replace which we have used here.    \n",
        "train_df.columns = columns\n",
        "train_df.columns"
      ],
      "execution_count": 16,
      "outputs": [
        {
          "output_type": "execute_result",
          "data": {
            "text/plain": [
              "Index(['tBodyAccmeanX', 'tBodyAccmeanY', 'tBodyAccmeanZ', 'tBodyAccstdX',\n",
              "       'tBodyAccstdY', 'tBodyAccstdZ', 'tBodyAccmadX', 'tBodyAccmadY',\n",
              "       'tBodyAccmadZ', 'tBodyAccmaxX',\n",
              "       ...\n",
              "       'angletBodyAccMeangravity', 'angletBodyAccJerkMeangravityMean',\n",
              "       'angletBodyGyroMeangravityMean', 'angletBodyGyroJerkMeangravityMean',\n",
              "       'angleXgravityMean', 'angleYgravityMean', 'angleZgravityMean',\n",
              "       'person_id', 'activity_id', 'activity'],\n",
              "      dtype='object', length=564)"
            ]
          },
          "metadata": {
            "tags": []
          },
          "execution_count": 16
        }
      ]
    },
    {
      "cell_type": "code",
      "metadata": {
        "id": "OJPLGZ78Zx8b",
        "colab_type": "code",
        "outputId": "490546c8-9c5b-43e2-e5b7-accb949e3cef",
        "colab": {
          "base_uri": "https://localhost:8080/",
          "height": 181
        }
      },
      "source": [
        "train_df.columns"
      ],
      "execution_count": 17,
      "outputs": [
        {
          "output_type": "execute_result",
          "data": {
            "text/plain": [
              "Index(['tBodyAccmeanX', 'tBodyAccmeanY', 'tBodyAccmeanZ', 'tBodyAccstdX',\n",
              "       'tBodyAccstdY', 'tBodyAccstdZ', 'tBodyAccmadX', 'tBodyAccmadY',\n",
              "       'tBodyAccmadZ', 'tBodyAccmaxX',\n",
              "       ...\n",
              "       'angletBodyAccMeangravity', 'angletBodyAccJerkMeangravityMean',\n",
              "       'angletBodyGyroMeangravityMean', 'angletBodyGyroJerkMeangravityMean',\n",
              "       'angleXgravityMean', 'angleYgravityMean', 'angleZgravityMean',\n",
              "       'person_id', 'activity_id', 'activity'],\n",
              "      dtype='object', length=564)"
            ]
          },
          "metadata": {
            "tags": []
          },
          "execution_count": 17
        }
      ]
    },
    {
      "cell_type": "code",
      "metadata": {
        "id": "1WQkniopPw7G",
        "colab_type": "code",
        "outputId": "0ba3b38f-5c43-41b4-e31f-d96dfaf14616",
        "colab": {
          "base_uri": "https://localhost:8080/",
          "height": 465
        }
      },
      "source": [
        "#boxplot of the feature acceleration gravity mean on x-axis\n",
        "plt.figure(figsize = (15, 7))\n",
        "sns.violinplot(x = \"activity\", y = \"angleXgravityMean\", showfliers = True, data = train_df)\n",
        "plt.title(\"Box plot of tBodyAccMagmean\")\n",
        "plt.ylabel(\"Accelerator Gravity Mean on X-axis\")\n",
        "plt.show()"
      ],
      "execution_count": 18,
      "outputs": [
        {
          "output_type": "display_data",
          "data": {
            "image/png": "[encoded data removed]",
            "text/plain": [
              "<Figure size 1080x504 with 1 Axes>"
            ]
          },
          "metadata": {
            "tags": []
          }
        }
      ]
    },
    {
      "cell_type": "markdown",
      "metadata": {
        "id": "GdhmX4tt_D2G",
        "colab_type": "text"
      },
      "source": [
        "**Dimensionality Reduction using Uniform Manifold Approximation and Projection**<br>\n",
        "[UMAP](https://umap-learn.readthedocs.io/en/latest/) Dimensionality Reduction technology used for visualizing as well as  non-linear dimension reduction. The algorithm is founded on three assumptions about the data\n",
        "\n",
        "\n",
        "1.   The data is uniformly distributed on Riemannian manifold\n",
        "2.   The Riemannian metric is locally constant (or can be approximated as such).\n",
        "3.   The manifold is locally connected. \n",
        "\n",
        "\n",
        "From these assumptions it is possible to model the manifold with a fuzzy topological structure. The embedding is found by searching for a low dimensional projection of the data that has the closest possible equivalent fuzzy topological structure.\n",
        "\n",
        " UMAP overall follows the philosophy of tSNE, but introduces a number of improvements such as another cost function and the absence of normalization of high- and low-dimensional probabilities."
      ]
    },
    {
      "cell_type": "code",
      "metadata": {
        "id": "5-RcFJWC6Qaq",
        "colab_type": "code",
        "colab": {
          "base_uri": "https://localhost:8080/",
          "height": 653
        },
        "outputId": "553d6f88-e7dc-4275-fbc4-5c9c42dcd331"
      },
      "source": [
        "import colorcet\n",
        "import holoviews\n",
        "import bokeh\n",
        "import datashader\n",
        "import umap\n",
        "import umap.plot\n",
        "data = train_df.drop([\"person_id\", \"activity_id\", \"activity\"], axis = 1)\n",
        "data_label = train_df[\"activity\"]\n",
        "mapper = umap.UMAP().fit(data)\n",
        "umap.plot.points(mapper, labels=data_label,theme = 'fire')"
      ],
      "execution_count": 19,
      "outputs": [
        {
          "output_type": "execute_result",
          "data": {
            "text/plain": [
              "<matplotlib.axes._subplots.AxesSubplot at 0x7fae9deb1780>"
            ]
          },
          "metadata": {
            "tags": []
          },
          "execution_count": 19
        },
        {
          "output_type": "display_data",
          "data": {
            "image/png": "[encoded data removed]",
            "text/plain": [
              "<Figure size 800x800 with 1 Axes>"
            ]
          },
          "metadata": {
            "tags": []
          }
        }
      ]
    },
    {
      "cell_type": "markdown",
      "metadata": {
        "id": "KOtOMT1hDlEe",
        "colab_type": "text"
      },
      "source": [
        "**Observations from the UMAP Plot**\n",
        "\n",
        "\n",
        "The technique can be fairly used to seperate every activity except ***SITTING*** and ***STANDING*** as denoted in the plot."
      ]
    }
  ]
}